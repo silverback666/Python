{
 "cells": [
  {
   "cell_type": "code",
   "execution_count": 1,
   "id": "4230539e",
   "metadata": {},
   "outputs": [
    {
     "name": "stdout",
     "output_type": "stream",
     "text": [
      "Enter the number\n"
     ]
    },
    {
     "ename": "SyntaxError",
     "evalue": "unexpected EOF while parsing (<string>, line 0)",
     "output_type": "error",
     "traceback": [
      "Traceback \u001b[1;36m(most recent call last)\u001b[0m:\n",
      "  File \u001b[0;32m\"C:\\ProgramData\\Anaconda3\\lib\\site-packages\\IPython\\core\\interactiveshell.py\"\u001b[0m, line \u001b[0;32m3444\u001b[0m, in \u001b[0;35mrun_code\u001b[0m\n    exec(code_obj, self.user_global_ns, self.user_ns)\n",
      "\u001b[1;36m  File \u001b[1;32m\"C:\\Users\\AIML\\AppData\\Local\\Temp/ipykernel_9096/3794293087.py\"\u001b[1;36m, line \u001b[1;32m1\u001b[1;36m, in \u001b[1;35m<module>\u001b[1;36m\u001b[0m\n\u001b[1;33m    number=eval (input(\"Enter the number\"))\u001b[0m\n",
      "\u001b[1;36m  File \u001b[1;32m\"<string>\"\u001b[1;36m, line \u001b[1;32munknown\u001b[0m\n\u001b[1;33m    \u001b[0m\n\u001b[1;37m    ^\u001b[0m\n\u001b[1;31mSyntaxError\u001b[0m\u001b[1;31m:\u001b[0m unexpected EOF while parsing\n"
     ]
    }
   ],
   "source": [
    "number=eval (input(\"Enter the number\"))"
   ]
  },
  {
   "cell_type": "code",
   "execution_count": 2,
   "id": "55cd649c",
   "metadata": {},
   "outputs": [
    {
     "name": "stdout",
     "output_type": "stream",
     "text": [
      "enter the number9\n",
      "false\n"
     ]
    }
   ],
   "source": [
    "number=eval (input(\"enter the number\"))\n",
    "if number % 5 ==0:\n",
    "    print(\"the form\")\n",
    "if number % 2 ==0:\n",
    "    print (\"its given number\")\n",
    "else:\n",
    "    print(\"false\")"
   ]
  },
  {
   "cell_type": "code",
   "execution_count": 3,
   "id": "dccc54cc",
   "metadata": {},
   "outputs": [
    {
     "name": "stdout",
     "output_type": "stream",
     "text": [
      "enter the number50\n",
      "the form\n",
      "its given number\n"
     ]
    }
   ],
   "source": [
    "number=eval (input(\"enter the number\"))\n",
    "if number % 5 ==0:\n",
    "    print(\"the form\")\n",
    "if number % 2 ==0:\n",
    "    print (\"its given number\")\n",
    "else:\n",
    "    print(\"false\")"
   ]
  },
  {
   "cell_type": "code",
   "execution_count": 4,
   "id": "0d1906a2",
   "metadata": {},
   "outputs": [
    {
     "name": "stdout",
     "output_type": "stream",
     "text": [
      "enter the number82\n",
      "divided by 2\n"
     ]
    }
   ],
   "source": [
    "number=eval (input(\"enter the number\"))\n",
    "if number % 5 ==0:\n",
    "    print(\"divided by 5\")\n",
    "if number % 2 ==0:\n",
    "    print (\"divided by 2\")\n",
    "else:\n",
    "    print(\"false\")"
   ]
  },
  {
   "cell_type": "code",
   "execution_count": null,
   "id": "2dd84b00",
   "metadata": {},
   "outputs": [],
   "source": []
  }
 ],
 "metadata": {
  "kernelspec": {
   "display_name": "Python 3 (ipykernel)",
   "language": "python",
   "name": "python3"
  },
  "language_info": {
   "codemirror_mode": {
    "name": "ipython",
    "version": 3
   },
   "file_extension": ".py",
   "mimetype": "text/x-python",
   "name": "python",
   "nbconvert_exporter": "python",
   "pygments_lexer": "ipython3",
   "version": "3.9.7"
  }
 },
 "nbformat": 4,
 "nbformat_minor": 5
}
