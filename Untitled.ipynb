{
 "cells": [
  {
   "cell_type": "code",
   "execution_count": 1,
   "id": "abd6952a",
   "metadata": {},
   "outputs": [],
   "source": [
    "import turtle"
   ]
  },
  {
   "cell_type": "code",
   "execution_count": 2,
   "id": "45828376",
   "metadata": {},
   "outputs": [],
   "source": [
    "tr = turtle.Turtle()\n",
    " \n",
    "# set thickness for each ring\n",
    "tr.pensize(5)\n",
    " \n",
    "tr.color(\"blue\")\n",
    "tr.penup()\n",
    "tr.goto(-110, -25)\n",
    "tr.pendown()\n",
    "tr.circle(45)\n",
    " \n",
    "tr.color(\"black\")\n",
    "tr.penup()\n",
    "tr.goto(0, -25)\n",
    "tr.pendown()\n",
    "tr.circle(45)\n",
    " \n",
    "tr.color(\"red\")\n",
    "tr.penup()\n",
    "tr.goto(110, -25)\n",
    "tr.pendown()\n",
    "tr.circle(45)\n",
    " \n",
    "tr.color(\"yellow\")\n",
    "tr.penup()\n",
    "tr.goto(-55, -75)\n",
    "tr.pendown()\n",
    "tr.circle(45)\n",
    " \n",
    "tr.color(\"green\")\n",
    "tr.penup()\n",
    "tr.goto(55, -75)\n",
    "tr.pendown()\n",
    "tr.circle(45)"
   ]
  },
  {
   "cell_type": "code",
   "execution_count": null,
   "id": "050b7b03",
   "metadata": {},
   "outputs": [],
   "source": []
  }
 ],
 "metadata": {
  "kernelspec": {
   "display_name": "Python 3 (ipykernel)",
   "language": "python",
   "name": "python3"
  },
  "language_info": {
   "codemirror_mode": {
    "name": "ipython",
    "version": 3
   },
   "file_extension": ".py",
   "mimetype": "text/x-python",
   "name": "python",
   "nbconvert_exporter": "python",
   "pygments_lexer": "ipython3",
   "version": "3.9.7"
  }
 },
 "nbformat": 4,
 "nbformat_minor": 5
}
